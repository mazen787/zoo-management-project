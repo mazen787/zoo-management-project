{
  "nbformat": 4,
  "nbformat_minor": 0,
  "metadata": {
    "colab": {
      "provenance": [],
      "authorship_tag": "ABX9TyM2NwiXF3SpHdbZZL0UjFWr",
      "include_colab_link": true
    },
    "kernelspec": {
      "name": "python3",
      "display_name": "Python 3"
    },
    "language_info": {
      "name": "python"
    }
  },
  "cells": [
    {
      "cell_type": "markdown",
      "metadata": {
        "id": "view-in-github",
        "colab_type": "text"
      },
      "source": [
        "<a href=\"https://colab.research.google.com/github/mazen787/zoo-management-project/blob/main/Zoo_system_project.ipynb\" target=\"_parent\"><img src=\"https://colab.research.google.com/assets/colab-badge.svg\" alt=\"Open In Colab\"/></a>"
      ]
    },
    {
      "cell_type": "markdown",
      "source": [
        "### **Phase 1**"
      ],
      "metadata": {
        "id": "FFutMxRvPS69"
      }
    },
    {
      "cell_type": "code",
      "execution_count": 40,
      "metadata": {
        "id": "nVgvIjBoLUfP"
      },
      "outputs": [],
      "source": [
        "from abc import ABC, abstractmethod\n",
        "\n",
        "class Animal(ABC):\n",
        "    def __init__(self, name, age, health):\n",
        "        self.name = name\n",
        "        self.__age = age\n",
        "        self.__health = health\n",
        "\n",
        "    @property\n",
        "    def age(self):\n",
        "        return self.__age\n",
        "\n",
        "    @age.setter\n",
        "    def age(self, value):\n",
        "        if value >= 0:\n",
        "            self.__age = value\n",
        "        else:\n",
        "            print(\"Age cannot be negative!\")\n",
        "\n",
        "    @property\n",
        "    def health(self):\n",
        "        return self.__health\n",
        "\n",
        "    @health.setter\n",
        "    def health(self, value):\n",
        "        if 0 <= value <= 100:\n",
        "            self.__health = value\n",
        "        else:\n",
        "            print(\"Health must be between 0 and 100.\")\n",
        "\n",
        "    @abstractmethod\n",
        "    def make_sound(self):\n",
        "        pass\n",
        "\n",
        "    @classmethod\n",
        "    def from_birth(cls, name):\n",
        "        return cls(name=name, age=0, health=100)\n",
        "\n",
        "    @staticmethod\n",
        "    def validate_species(species_name):\n",
        "        valid_species = ['Lion', 'Penguin', 'Snake', 'Elephant', 'Giraffe']\n",
        "        return species_name in valid_species\n",
        "\n",
        "\n",
        "    def __str__(self):\n",
        "        return f\"{self.name} ({self.__class__.__name__}) - Age: {self.__age}, Health: {self.__health}\""
      ]
    },
    {
      "cell_type": "code",
      "source": [
        "class Lion(Animal):\n",
        "    def make_sound(self):\n",
        "        print(\"Roar!\")\n",
        "\n",
        "class Penguin(Animal):\n",
        "    def make_sound(self):\n",
        "        print(\"Squawk!\")\n",
        "\n",
        "class Snake(Animal):\n",
        "    def make_sound(self):\n",
        "        print(\"Hiss!\")\n",
        "\n",
        "class Elephant(Animal):\n",
        "    def make_sound(self):\n",
        "        print(\"Trumpet!\")\n",
        "\n",
        "class Giraffe(Animal):\n",
        "    def make_sound(self):\n",
        "        print(\"Hum!\")\n"
      ],
      "metadata": {
        "id": "ZjRn-8ufMzp-"
      },
      "execution_count": 41,
      "outputs": []
    },
    {
      "cell_type": "code",
      "source": [
        "class Employee:\n",
        "    def __init__(self, name):\n",
        "        self.name = name\n",
        "\n",
        "    def __str__(self):\n",
        "        return f\"{self.name} ({self.__class__.__name__})\"\n",
        "\n",
        "class Veterinarian(Employee):\n",
        "    def treat_animal(self, animal):\n",
        "        print(f\"{self.name} is treating {animal.name}\")\n",
        "        animal.health += 10\n",
        "\n",
        "class Zookeeper(Employee):\n",
        "    def move_animal(self, animal, from_enclosure, to_enclosure):\n",
        "        print(f\"{self.name} is moving {animal.name} from one enclosure to another.\")\n",
        "        from_enclosure.remove_animal(animal)\n",
        "        to_enclosure.add_animal(animal)\n"
      ],
      "metadata": {
        "id": "r4hFPUE_NGCh"
      },
      "execution_count": 42,
      "outputs": []
    },
    {
      "cell_type": "code",
      "source": [
        "class Enclosure:\n",
        "    def __init__(self, name):\n",
        "        self.name = name\n",
        "        self.animals = []\n",
        "\n",
        "    def add_animal(self, animal):\n",
        "        self.animals.append(animal)\n",
        "\n",
        "    def remove_animal(self, animal):\n",
        "        if animal in self.animals:\n",
        "            self.animals.remove(animal)\n",
        "\n",
        "    def __len__(self):\n",
        "        return len(self.animals)\n",
        "\n",
        "    def __add__(self, other):\n",
        "        new_enclosure = Enclosure(f\"{self.name} + {other.name}\")\n",
        "        new_enclosure.animals = self.animals + other.animals\n",
        "        return new_enclosure\n",
        "\n",
        "    def __str__(self):\n",
        "        return f\"Enclosure: {self.name}, Animals: {[animal.name for animal in self.animals]}\"\n"
      ],
      "metadata": {
        "id": "rizoZp4xNiDK"
      },
      "execution_count": 43,
      "outputs": []
    },
    {
      "cell_type": "code",
      "source": [
        "lion = Lion(\"Simba\", 3, 80)\n",
        "penguin = Penguin(\"Pingu\", 2, 90)\n",
        "snake = Snake(\"Sly\", 1, 70)\n",
        "\n",
        "enclosure1 = Enclosure(\"Savannah\")\n",
        "enclosure2 = Enclosure(\"Arctic\")\n",
        "\n",
        "enclosure1.add_animal(lion)\n",
        "enclosure2.add_animal(penguin)\n",
        "enclosure2.add_animal(snake)\n",
        "\n",
        "print(enclosure1)\n",
        "print(enclosure2)\n",
        "\n"
      ],
      "metadata": {
        "colab": {
          "base_uri": "https://localhost:8080/"
        },
        "id": "EQFfjxryN5gY",
        "outputId": "ea0fff45-81fe-440c-9c65-da578eeea631"
      },
      "execution_count": 44,
      "outputs": [
        {
          "output_type": "stream",
          "name": "stdout",
          "text": [
            "Enclosure: Savannah, Animals: ['Simba']\n",
            "Enclosure: Arctic, Animals: ['Pingu', 'Sly']\n"
          ]
        }
      ]
    },
    {
      "cell_type": "code",
      "source": [
        "merged = enclosure1 + enclosure2\n",
        "print(merged)\n",
        "\n",
        "vet = Veterinarian(\"Dr. Jane\")\n",
        "keeper = Zookeeper(\"Alex\")\n",
        "\n",
        "vet.treat_animal(snake)\n",
        "\n",
        "keeper.move_animal(penguin, enclosure2, enclosure1)\n",
        "\n",
        "lion.make_sound()\n",
        "penguin.make_sound()\n",
        "snake.make_sound()\n"
      ],
      "metadata": {
        "colab": {
          "base_uri": "https://localhost:8080/"
        },
        "id": "KVExwlM6OGDj",
        "outputId": "ab64dad4-cc97-4629-fb24-9da2d6765fb0"
      },
      "execution_count": 45,
      "outputs": [
        {
          "output_type": "stream",
          "name": "stdout",
          "text": [
            "Enclosure: Savannah + Arctic, Animals: ['Simba', 'Pingu', 'Sly']\n",
            "Dr. Jane is treating Sly\n",
            "Alex is moving Pingu from one enclosure to another.\n",
            "Roar!\n",
            "Squawk!\n",
            "Hiss!\n"
          ]
        }
      ]
    },
    {
      "cell_type": "markdown",
      "source": [
        "# **Phase 2**"
      ],
      "metadata": {
        "id": "-gkAo45mPItf"
      }
    },
    {
      "cell_type": "code",
      "source": [
        "class Fish:\n",
        "    def swim(self):\n",
        "        print(\"Swimming in the water...\")\n",
        "\n",
        "class Bird:\n",
        "    def fly(self):\n",
        "        print(\"Flying in the sky...\")\n"
      ],
      "metadata": {
        "id": "b0Dbe68aOY7k"
      },
      "execution_count": 46,
      "outputs": []
    },
    {
      "cell_type": "code",
      "source": [
        "class FlyingFish(Fish, Bird):\n",
        "    def __init__(self, name):\n",
        "        self.name = name\n",
        "\n",
        "    def show_abilities(self):\n",
        "        print(f\"{self.name} can:\")\n",
        "        self.swim()\n",
        "        self.fly()\n"
      ],
      "metadata": {
        "id": "vpCOTvelPQeh"
      },
      "execution_count": 47,
      "outputs": []
    },
    {
      "cell_type": "code",
      "source": [
        "ff = FlyingFish(\"Flash\")\n",
        "ff.show_abilities()"
      ],
      "metadata": {
        "colab": {
          "base_uri": "https://localhost:8080/"
        },
        "id": "L6eQ8YDTPi1z",
        "outputId": "e28bf4c6-0c91-49d0-fc3b-79e253184da5"
      },
      "execution_count": 48,
      "outputs": [
        {
          "output_type": "stream",
          "name": "stdout",
          "text": [
            "Flash can:\n",
            "Swimming in the water...\n",
            "Flying in the sky...\n"
          ]
        }
      ]
    },
    {
      "cell_type": "code",
      "source": [
        "@classmethod\n",
        "def from_birth(cls, name):\n",
        "    return cls(name=name, age=0, health=100)\n",
        "\n",
        "\n"
      ],
      "metadata": {
        "id": "qoWJzB_zPlqt"
      },
      "execution_count": 49,
      "outputs": []
    },
    {
      "cell_type": "code",
      "source": [
        "baby_lion = Lion.from_birth(\"Baby Simba\")\n",
        "print(baby_lion)\n"
      ],
      "metadata": {
        "colab": {
          "base_uri": "https://localhost:8080/"
        },
        "id": "os8FCEvkQMab",
        "outputId": "5c851dcb-9fad-4ed4-c2ae-7002b072aef6"
      },
      "execution_count": 50,
      "outputs": [
        {
          "output_type": "stream",
          "name": "stdout",
          "text": [
            "Baby Simba (Lion) - Age: 0, Health: 100\n"
          ]
        }
      ]
    },
    {
      "cell_type": "code",
      "source": [
        "@staticmethod\n",
        "def validate_species(species_name):\n",
        "    valid_species = ['Lion', 'Penguin', 'Snake', 'Elephant', 'Giraffe']\n",
        "    return species_name in valid_species\n"
      ],
      "metadata": {
        "id": "wPFK2AHlQQYq"
      },
      "execution_count": 51,
      "outputs": []
    },
    {
      "cell_type": "code",
      "source": [
        "print(Animal.validate_species(\"Lion\"))\n",
        "print(Animal.validate_species(\"Dragon\"))\n"
      ],
      "metadata": {
        "colab": {
          "base_uri": "https://localhost:8080/"
        },
        "id": "tUzq72SkRNxM",
        "outputId": "268b36d9-4917-4cac-d4e5-452518a5bd07"
      },
      "execution_count": 52,
      "outputs": [
        {
          "output_type": "stream",
          "name": "stdout",
          "text": [
            "True\n",
            "False\n"
          ]
        }
      ]
    },
    {
      "cell_type": "code",
      "source": [
        "def feed(animal):\n",
        "    if hasattr(animal, 'health'):\n",
        "        print(f\"Feeding {animal.name}...\")\n",
        "        animal.health += 5\n",
        "    else:\n",
        "        print(\"This object cannot be fed.\")\n"
      ],
      "metadata": {
        "id": "SQnw7-zORPnt"
      },
      "execution_count": 53,
      "outputs": []
    },
    {
      "cell_type": "code",
      "source": [
        "feed(lion)\n",
        "feed(\"cat\")\n"
      ],
      "metadata": {
        "colab": {
          "base_uri": "https://localhost:8080/"
        },
        "id": "ME4KgE6QRjut",
        "outputId": "076301e7-997d-4f72-9772-7530d1c0847c"
      },
      "execution_count": 54,
      "outputs": [
        {
          "output_type": "stream",
          "name": "stdout",
          "text": [
            "Feeding Simba...\n",
            "This object cannot be fed.\n"
          ]
        }
      ]
    },
    {
      "cell_type": "markdown",
      "source": [
        "# **Phase 3**"
      ],
      "metadata": {
        "id": "yxygom_QTsms"
      }
    },
    {
      "cell_type": "code",
      "source": [
        "class Zoo:\n",
        "    def __init__(self, name):\n",
        "        self.name = name\n",
        "        self.enclosures = []\n",
        "        self.employees = []\n",
        "\n",
        "    def add_enclosure(self, enclosure):\n",
        "        self.enclosures.append(enclosure)\n",
        "\n",
        "    def hire_employee(self, employee):\n",
        "        self.employees.append(employee)\n",
        "\n",
        "    def daily_routine(self):\n",
        "        print(\"\\n--- Daily Routine Starts ---\")\n",
        "\n",
        "        for enclosure in self.enclosures:\n",
        "            for animal in enclosure.animals:\n",
        "                animal.age += 1\n",
        "                animal.health -= 5\n",
        "\n",
        "        for employee in self.employees:\n",
        "            if isinstance(employee, Veterinarian):\n",
        "                for enclosure in self.enclosures:\n",
        "                    for animal in enclosure.animals:\n",
        "                        if animal.health < 60:\n",
        "                            employee.treat_animal(animal)\n",
        "\n",
        "        for employee in self.employees:\n",
        "            if isinstance(employee, Zookeeper):\n",
        "                if len(self.enclosures) >= 2:\n",
        "                    from_enclosure = self.enclosures[0]\n",
        "                    to_enclosure = self.enclosures[1]\n",
        "                    if from_enclosure.animals:\n",
        "                        animal_to_move = from_enclosure.animals[0]\n",
        "                        employee.move_animal(animal_to_move, from_enclosure, to_enclosure)\n",
        "\n",
        "        print(\"--- Daily Routine Ends ---\\n\")\n",
        "\n",
        "    def __str__(self):\n",
        "        result = f\"Zoo: {self.name}\\n\"\n",
        "        result += f\"Total Enclosures: {len(self.enclosures)}\\n\"\n",
        "        result += f\"Total Employees: {len(self.employees)}\\n\\n\"\n",
        "\n",
        "        for enclosure in self.enclosures:\n",
        "            result += str(enclosure) + \"\\n\"\n",
        "            for animal in enclosure.animals:\n",
        "                result += \"  - \" + str(animal) + \"\\n\"\n",
        "\n",
        "        return result\n"
      ],
      "metadata": {
        "id": "MJ_uZf99R0CI"
      },
      "execution_count": 55,
      "outputs": []
    },
    {
      "cell_type": "code",
      "source": [
        "my_zoo = Zoo(\"Happy Zoo\")\n",
        "\n",
        "savannah = Enclosure(\"Savannah\")\n",
        "ice_zone = Enclosure(\"Ice Zone\")\n",
        "jungle = Enclosure(\"Jungle\")\n"
      ],
      "metadata": {
        "id": "QajQuma9UGjR"
      },
      "execution_count": 56,
      "outputs": []
    },
    {
      "cell_type": "code",
      "source": [
        "my_zoo.add_enclosure(savannah)\n",
        "my_zoo.add_enclosure(ice_zone)\n",
        "my_zoo.add_enclosure(jungle)\n",
        "\n",
        "animals = [\n",
        "    Lion(\"Simba\", 3, 80),\n",
        "    Lion.from_birth(\"Nala\"),\n",
        "    Penguin(\"Pingu\", 2, 90),\n",
        "    Penguin(\"Pinga\", 4, 60),\n",
        "    Snake(\"Sly\", 1, 70),\n",
        "    Snake(\"Python\", 2, 50),\n",
        "    Elephant(\"Dumbo\", 5, 95),\n",
        "    Elephant.from_birth(\"MiniDumbo\"),\n",
        "    Giraffe(\"Melman\", 7, 85),\n",
        "    Giraffe(\"Shorty\", 3, 75)\n",
        "]"
      ],
      "metadata": {
        "id": "KslKu-hFUP7h"
      },
      "execution_count": 57,
      "outputs": []
    },
    {
      "cell_type": "code",
      "source": [
        "savannah.add_animal(animals[0])\n",
        "savannah.add_animal(animals[1])\n",
        "ice_zone.add_animal(animals[2])\n",
        "ice_zone.add_animal(animals[3])\n",
        "jungle.add_animal(animals[4])\n",
        "jungle.add_animal(animals[5])\n",
        "savannah.add_animal(animals[6])\n",
        "ice_zone.add_animal(animals[7])\n",
        "jungle.add_animal(animals[8])\n",
        "jungle.add_animal(animals[9])\n",
        "\n",
        "vet1 = Veterinarian(\"Dr. Jane\")\n",
        "keeper1 = Zookeeper(\"Alex\")\n",
        "\n",
        "my_zoo.hire_employee(vet1)\n",
        "my_zoo.hire_employee(keeper1)\n",
        "\n",
        "print(\"BEFORE SIMULATION:\")\n",
        "print(my_zoo)\n",
        "\n",
        "my_zoo.daily_routine()\n",
        "\n",
        "print(\"AFTER SIMULATION:\")\n",
        "print(my_zoo)\n"
      ],
      "metadata": {
        "colab": {
          "base_uri": "https://localhost:8080/"
        },
        "id": "415n9eGOUXlB",
        "outputId": "9e159db1-d0d2-4848-a830-b0dbaae94612"
      },
      "execution_count": 58,
      "outputs": [
        {
          "output_type": "stream",
          "name": "stdout",
          "text": [
            "BEFORE SIMULATION:\n",
            "Zoo: Happy Zoo\n",
            "Total Enclosures: 3\n",
            "Total Employees: 2\n",
            "\n",
            "Enclosure: Savannah, Animals: ['Simba', 'Nala', 'Dumbo']\n",
            "  - Simba (Lion) - Age: 3, Health: 80\n",
            "  - Nala (Lion) - Age: 0, Health: 100\n",
            "  - Dumbo (Elephant) - Age: 5, Health: 95\n",
            "Enclosure: Ice Zone, Animals: ['Pingu', 'Pinga', 'MiniDumbo']\n",
            "  - Pingu (Penguin) - Age: 2, Health: 90\n",
            "  - Pinga (Penguin) - Age: 4, Health: 60\n",
            "  - MiniDumbo (Elephant) - Age: 0, Health: 100\n",
            "Enclosure: Jungle, Animals: ['Sly', 'Python', 'Melman', 'Shorty']\n",
            "  - Sly (Snake) - Age: 1, Health: 70\n",
            "  - Python (Snake) - Age: 2, Health: 50\n",
            "  - Melman (Giraffe) - Age: 7, Health: 85\n",
            "  - Shorty (Giraffe) - Age: 3, Health: 75\n",
            "\n",
            "\n",
            "--- Daily Routine Starts ---\n",
            "Dr. Jane is treating Pinga\n",
            "Dr. Jane is treating Python\n",
            "Alex is moving Simba from one enclosure to another.\n",
            "--- Daily Routine Ends ---\n",
            "\n",
            "AFTER SIMULATION:\n",
            "Zoo: Happy Zoo\n",
            "Total Enclosures: 3\n",
            "Total Employees: 2\n",
            "\n",
            "Enclosure: Savannah, Animals: ['Nala', 'Dumbo']\n",
            "  - Nala (Lion) - Age: 1, Health: 95\n",
            "  - Dumbo (Elephant) - Age: 6, Health: 90\n",
            "Enclosure: Ice Zone, Animals: ['Pingu', 'Pinga', 'MiniDumbo', 'Simba']\n",
            "  - Pingu (Penguin) - Age: 3, Health: 85\n",
            "  - Pinga (Penguin) - Age: 5, Health: 65\n",
            "  - MiniDumbo (Elephant) - Age: 1, Health: 95\n",
            "  - Simba (Lion) - Age: 4, Health: 75\n",
            "Enclosure: Jungle, Animals: ['Sly', 'Python', 'Melman', 'Shorty']\n",
            "  - Sly (Snake) - Age: 2, Health: 65\n",
            "  - Python (Snake) - Age: 3, Health: 55\n",
            "  - Melman (Giraffe) - Age: 8, Health: 80\n",
            "  - Shorty (Giraffe) - Age: 4, Health: 70\n",
            "\n"
          ]
        }
      ]
    },
    {
      "cell_type": "code",
      "source": [],
      "metadata": {
        "id": "v3TKINelUeRL"
      },
      "execution_count": null,
      "outputs": []
    }
  ]
}